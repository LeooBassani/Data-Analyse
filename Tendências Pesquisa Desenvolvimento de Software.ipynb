{
 "cells": [
  {
   "cell_type": "markdown",
   "metadata": {},
   "source": [
    "# Análise Explolatória dos Dados"
   ]
  },
  {
   "cell_type": "markdown",
   "metadata": {},
   "source": [
    "### Objetivo inicial de analisar os dados e criar tendências e traçar o perfil e características dos participantes da pesquisa"
   ]
  },
  {
   "cell_type": "markdown",
   "metadata": {},
   "source": [
    "### Pesquisa feita sobre expectativa salarial, área de atuação e estudos dos integrantes de um site sobre desenvolvimento de software nos Estados Unidos."
   ]
  },
  {
   "cell_type": "markdown",
   "metadata": {},
   "source": [
    "## Importando os Dados"
   ]
  },
  {
   "cell_type": "code",
   "execution_count": 1,
   "metadata": {},
   "outputs": [],
   "source": [
    "# Importando os pacotes\n",
    "import numpy as np\n",
    "import pandas as pd\n",
    "import matplotlib.pyplot as plt\n",
    "%matplotlib inline"
   ]
  },
  {
   "cell_type": "code",
   "execution_count": 2,
   "metadata": {},
   "outputs": [],
   "source": [
    "# Carregando o dataset\n",
    "dados = pd.read_csv(\"Dados-Pesquisa.csv\", sep = \",\", low_memory=False)"
   ]
  },
  {
   "cell_type": "code",
   "execution_count": 3,
   "metadata": {},
   "outputs": [
    {
     "data": {
      "text/html": [
       "<div>\n",
       "<style scoped>\n",
       "    .dataframe tbody tr th:only-of-type {\n",
       "        vertical-align: middle;\n",
       "    }\n",
       "\n",
       "    .dataframe tbody tr th {\n",
       "        vertical-align: top;\n",
       "    }\n",
       "\n",
       "    .dataframe thead th {\n",
       "        text-align: right;\n",
       "    }\n",
       "</style>\n",
       "<table border=\"1\" class=\"dataframe\">\n",
       "  <thead>\n",
       "    <tr style=\"text-align: right;\">\n",
       "      <th></th>\n",
       "      <th>Age</th>\n",
       "      <th>AttendedBootcamp</th>\n",
       "      <th>BootcampFinish</th>\n",
       "      <th>BootcampFullJobAfter</th>\n",
       "      <th>BootcampLoanYesNo</th>\n",
       "      <th>BootcampMonthsAgo</th>\n",
       "      <th>BootcampName</th>\n",
       "      <th>BootcampPostSalary</th>\n",
       "      <th>BootcampRecommend</th>\n",
       "      <th>ChildrenNumber</th>\n",
       "      <th>...</th>\n",
       "      <th>ResourceSoloLearn</th>\n",
       "      <th>ResourceStackOverflow</th>\n",
       "      <th>ResourceTreehouse</th>\n",
       "      <th>ResourceUdacity</th>\n",
       "      <th>ResourceUdemy</th>\n",
       "      <th>ResourceW3Schools</th>\n",
       "      <th>ResourceYouTube</th>\n",
       "      <th>SchoolDegree</th>\n",
       "      <th>SchoolMajor</th>\n",
       "      <th>StudentDebtOwe</th>\n",
       "    </tr>\n",
       "  </thead>\n",
       "  <tbody>\n",
       "    <tr>\n",
       "      <th>0</th>\n",
       "      <td>28.0</td>\n",
       "      <td>0.0</td>\n",
       "      <td>NaN</td>\n",
       "      <td>NaN</td>\n",
       "      <td>NaN</td>\n",
       "      <td>NaN</td>\n",
       "      <td>NaN</td>\n",
       "      <td>NaN</td>\n",
       "      <td>NaN</td>\n",
       "      <td>NaN</td>\n",
       "      <td>...</td>\n",
       "      <td>NaN</td>\n",
       "      <td>NaN</td>\n",
       "      <td>NaN</td>\n",
       "      <td>NaN</td>\n",
       "      <td>NaN</td>\n",
       "      <td>NaN</td>\n",
       "      <td>NaN</td>\n",
       "      <td>some college credit, no degree</td>\n",
       "      <td>NaN</td>\n",
       "      <td>20000.0</td>\n",
       "    </tr>\n",
       "    <tr>\n",
       "      <th>1</th>\n",
       "      <td>22.0</td>\n",
       "      <td>0.0</td>\n",
       "      <td>NaN</td>\n",
       "      <td>NaN</td>\n",
       "      <td>NaN</td>\n",
       "      <td>NaN</td>\n",
       "      <td>NaN</td>\n",
       "      <td>NaN</td>\n",
       "      <td>NaN</td>\n",
       "      <td>NaN</td>\n",
       "      <td>...</td>\n",
       "      <td>NaN</td>\n",
       "      <td>NaN</td>\n",
       "      <td>NaN</td>\n",
       "      <td>NaN</td>\n",
       "      <td>1.0</td>\n",
       "      <td>NaN</td>\n",
       "      <td>NaN</td>\n",
       "      <td>some college credit, no degree</td>\n",
       "      <td>NaN</td>\n",
       "      <td>NaN</td>\n",
       "    </tr>\n",
       "    <tr>\n",
       "      <th>2</th>\n",
       "      <td>19.0</td>\n",
       "      <td>0.0</td>\n",
       "      <td>NaN</td>\n",
       "      <td>NaN</td>\n",
       "      <td>NaN</td>\n",
       "      <td>NaN</td>\n",
       "      <td>NaN</td>\n",
       "      <td>NaN</td>\n",
       "      <td>NaN</td>\n",
       "      <td>NaN</td>\n",
       "      <td>...</td>\n",
       "      <td>NaN</td>\n",
       "      <td>NaN</td>\n",
       "      <td>NaN</td>\n",
       "      <td>NaN</td>\n",
       "      <td>NaN</td>\n",
       "      <td>NaN</td>\n",
       "      <td>NaN</td>\n",
       "      <td>high school diploma or equivalent (GED)</td>\n",
       "      <td>NaN</td>\n",
       "      <td>NaN</td>\n",
       "    </tr>\n",
       "    <tr>\n",
       "      <th>3</th>\n",
       "      <td>26.0</td>\n",
       "      <td>0.0</td>\n",
       "      <td>NaN</td>\n",
       "      <td>NaN</td>\n",
       "      <td>NaN</td>\n",
       "      <td>NaN</td>\n",
       "      <td>NaN</td>\n",
       "      <td>NaN</td>\n",
       "      <td>NaN</td>\n",
       "      <td>NaN</td>\n",
       "      <td>...</td>\n",
       "      <td>NaN</td>\n",
       "      <td>NaN</td>\n",
       "      <td>NaN</td>\n",
       "      <td>NaN</td>\n",
       "      <td>NaN</td>\n",
       "      <td>NaN</td>\n",
       "      <td>NaN</td>\n",
       "      <td>bachelor's degree</td>\n",
       "      <td>Cinematography And Film</td>\n",
       "      <td>7000.0</td>\n",
       "    </tr>\n",
       "    <tr>\n",
       "      <th>4</th>\n",
       "      <td>20.0</td>\n",
       "      <td>0.0</td>\n",
       "      <td>NaN</td>\n",
       "      <td>NaN</td>\n",
       "      <td>NaN</td>\n",
       "      <td>NaN</td>\n",
       "      <td>NaN</td>\n",
       "      <td>NaN</td>\n",
       "      <td>NaN</td>\n",
       "      <td>NaN</td>\n",
       "      <td>...</td>\n",
       "      <td>NaN</td>\n",
       "      <td>NaN</td>\n",
       "      <td>NaN</td>\n",
       "      <td>NaN</td>\n",
       "      <td>NaN</td>\n",
       "      <td>NaN</td>\n",
       "      <td>NaN</td>\n",
       "      <td>some college credit, no degree</td>\n",
       "      <td>NaN</td>\n",
       "      <td>NaN</td>\n",
       "    </tr>\n",
       "  </tbody>\n",
       "</table>\n",
       "<p>5 rows × 113 columns</p>\n",
       "</div>"
      ],
      "text/plain": [
       "    Age  AttendedBootcamp  BootcampFinish  BootcampFullJobAfter  \\\n",
       "0  28.0               0.0             NaN                   NaN   \n",
       "1  22.0               0.0             NaN                   NaN   \n",
       "2  19.0               0.0             NaN                   NaN   \n",
       "3  26.0               0.0             NaN                   NaN   \n",
       "4  20.0               0.0             NaN                   NaN   \n",
       "\n",
       "   BootcampLoanYesNo  BootcampMonthsAgo BootcampName  BootcampPostSalary  \\\n",
       "0                NaN                NaN          NaN                 NaN   \n",
       "1                NaN                NaN          NaN                 NaN   \n",
       "2                NaN                NaN          NaN                 NaN   \n",
       "3                NaN                NaN          NaN                 NaN   \n",
       "4                NaN                NaN          NaN                 NaN   \n",
       "\n",
       "   BootcampRecommend  ChildrenNumber  ... ResourceSoloLearn  \\\n",
       "0                NaN             NaN  ...               NaN   \n",
       "1                NaN             NaN  ...               NaN   \n",
       "2                NaN             NaN  ...               NaN   \n",
       "3                NaN             NaN  ...               NaN   \n",
       "4                NaN             NaN  ...               NaN   \n",
       "\n",
       "   ResourceStackOverflow  ResourceTreehouse  ResourceUdacity  ResourceUdemy  \\\n",
       "0                    NaN                NaN              NaN            NaN   \n",
       "1                    NaN                NaN              NaN            1.0   \n",
       "2                    NaN                NaN              NaN            NaN   \n",
       "3                    NaN                NaN              NaN            NaN   \n",
       "4                    NaN                NaN              NaN            NaN   \n",
       "\n",
       "   ResourceW3Schools  ResourceYouTube  \\\n",
       "0                NaN              NaN   \n",
       "1                NaN              NaN   \n",
       "2                NaN              NaN   \n",
       "3                NaN              NaN   \n",
       "4                NaN              NaN   \n",
       "\n",
       "                              SchoolDegree              SchoolMajor  \\\n",
       "0           some college credit, no degree                      NaN   \n",
       "1           some college credit, no degree                      NaN   \n",
       "2  high school diploma or equivalent (GED)                      NaN   \n",
       "3                        bachelor's degree  Cinematography And Film   \n",
       "4           some college credit, no degree                      NaN   \n",
       "\n",
       "   StudentDebtOwe  \n",
       "0         20000.0  \n",
       "1             NaN  \n",
       "2             NaN  \n",
       "3          7000.0  \n",
       "4             NaN  \n",
       "\n",
       "[5 rows x 113 columns]"
      ]
     },
     "execution_count": 3,
     "metadata": {},
     "output_type": "execute_result"
    }
   ],
   "source": [
    "# Amostra dos dados\n",
    "dados.head()"
   ]
  },
  {
   "cell_type": "code",
   "execution_count": 4,
   "metadata": {},
   "outputs": [
    {
     "data": {
      "text/html": [
       "<div>\n",
       "<style scoped>\n",
       "    .dataframe tbody tr th:only-of-type {\n",
       "        vertical-align: middle;\n",
       "    }\n",
       "\n",
       "    .dataframe tbody tr th {\n",
       "        vertical-align: top;\n",
       "    }\n",
       "\n",
       "    .dataframe thead th {\n",
       "        text-align: right;\n",
       "    }\n",
       "</style>\n",
       "<table border=\"1\" class=\"dataframe\">\n",
       "  <thead>\n",
       "    <tr style=\"text-align: right;\">\n",
       "      <th></th>\n",
       "      <th>Age</th>\n",
       "      <th>AttendedBootcamp</th>\n",
       "      <th>BootcampFinish</th>\n",
       "      <th>BootcampFullJobAfter</th>\n",
       "      <th>BootcampLoanYesNo</th>\n",
       "      <th>BootcampMonthsAgo</th>\n",
       "      <th>BootcampPostSalary</th>\n",
       "      <th>BootcampRecommend</th>\n",
       "      <th>ChildrenNumber</th>\n",
       "      <th>CodeEventBootcamp</th>\n",
       "      <th>...</th>\n",
       "      <th>ResourceReddit</th>\n",
       "      <th>ResourceSkillCrush</th>\n",
       "      <th>ResourceSoloLearn</th>\n",
       "      <th>ResourceStackOverflow</th>\n",
       "      <th>ResourceTreehouse</th>\n",
       "      <th>ResourceUdacity</th>\n",
       "      <th>ResourceUdemy</th>\n",
       "      <th>ResourceW3Schools</th>\n",
       "      <th>ResourceYouTube</th>\n",
       "      <th>StudentDebtOwe</th>\n",
       "    </tr>\n",
       "  </thead>\n",
       "  <tbody>\n",
       "    <tr>\n",
       "      <th>count</th>\n",
       "      <td>13613.000000</td>\n",
       "      <td>15380.000000</td>\n",
       "      <td>933.000000</td>\n",
       "      <td>635.000000</td>\n",
       "      <td>934.000000</td>\n",
       "      <td>631.000000</td>\n",
       "      <td>330.000000</td>\n",
       "      <td>937.000000</td>\n",
       "      <td>2554.000000</td>\n",
       "      <td>42.0</td>\n",
       "      <td>...</td>\n",
       "      <td>29.0</td>\n",
       "      <td>36.0</td>\n",
       "      <td>30.0</td>\n",
       "      <td>191.0</td>\n",
       "      <td>422.0</td>\n",
       "      <td>3306.0</td>\n",
       "      <td>4130.0</td>\n",
       "      <td>121.0</td>\n",
       "      <td>121.0</td>\n",
       "      <td>3514.000000</td>\n",
       "    </tr>\n",
       "    <tr>\n",
       "      <th>mean</th>\n",
       "      <td>29.175714</td>\n",
       "      <td>0.061964</td>\n",
       "      <td>0.689175</td>\n",
       "      <td>0.584252</td>\n",
       "      <td>0.332976</td>\n",
       "      <td>9.055468</td>\n",
       "      <td>63740.506061</td>\n",
       "      <td>0.785486</td>\n",
       "      <td>1.896241</td>\n",
       "      <td>1.0</td>\n",
       "      <td>...</td>\n",
       "      <td>1.0</td>\n",
       "      <td>1.0</td>\n",
       "      <td>1.0</td>\n",
       "      <td>1.0</td>\n",
       "      <td>1.0</td>\n",
       "      <td>1.0</td>\n",
       "      <td>1.0</td>\n",
       "      <td>1.0</td>\n",
       "      <td>1.0</td>\n",
       "      <td>34556.143711</td>\n",
       "    </tr>\n",
       "    <tr>\n",
       "      <th>std</th>\n",
       "      <td>9.017580</td>\n",
       "      <td>0.241097</td>\n",
       "      <td>0.463080</td>\n",
       "      <td>0.493239</td>\n",
       "      <td>0.471531</td>\n",
       "      <td>12.968035</td>\n",
       "      <td>26347.200265</td>\n",
       "      <td>0.410704</td>\n",
       "      <td>1.115975</td>\n",
       "      <td>0.0</td>\n",
       "      <td>...</td>\n",
       "      <td>0.0</td>\n",
       "      <td>0.0</td>\n",
       "      <td>0.0</td>\n",
       "      <td>0.0</td>\n",
       "      <td>0.0</td>\n",
       "      <td>0.0</td>\n",
       "      <td>0.0</td>\n",
       "      <td>0.0</td>\n",
       "      <td>0.0</td>\n",
       "      <td>54423.139781</td>\n",
       "    </tr>\n",
       "    <tr>\n",
       "      <th>min</th>\n",
       "      <td>10.000000</td>\n",
       "      <td>0.000000</td>\n",
       "      <td>0.000000</td>\n",
       "      <td>0.000000</td>\n",
       "      <td>0.000000</td>\n",
       "      <td>0.000000</td>\n",
       "      <td>6000.000000</td>\n",
       "      <td>0.000000</td>\n",
       "      <td>0.000000</td>\n",
       "      <td>1.0</td>\n",
       "      <td>...</td>\n",
       "      <td>1.0</td>\n",
       "      <td>1.0</td>\n",
       "      <td>1.0</td>\n",
       "      <td>1.0</td>\n",
       "      <td>1.0</td>\n",
       "      <td>1.0</td>\n",
       "      <td>1.0</td>\n",
       "      <td>1.0</td>\n",
       "      <td>1.0</td>\n",
       "      <td>0.000000</td>\n",
       "    </tr>\n",
       "    <tr>\n",
       "      <th>25%</th>\n",
       "      <td>23.000000</td>\n",
       "      <td>0.000000</td>\n",
       "      <td>0.000000</td>\n",
       "      <td>0.000000</td>\n",
       "      <td>0.000000</td>\n",
       "      <td>3.000000</td>\n",
       "      <td>50000.000000</td>\n",
       "      <td>1.000000</td>\n",
       "      <td>1.000000</td>\n",
       "      <td>1.0</td>\n",
       "      <td>...</td>\n",
       "      <td>1.0</td>\n",
       "      <td>1.0</td>\n",
       "      <td>1.0</td>\n",
       "      <td>1.0</td>\n",
       "      <td>1.0</td>\n",
       "      <td>1.0</td>\n",
       "      <td>1.0</td>\n",
       "      <td>1.0</td>\n",
       "      <td>1.0</td>\n",
       "      <td>10000.000000</td>\n",
       "    </tr>\n",
       "    <tr>\n",
       "      <th>50%</th>\n",
       "      <td>27.000000</td>\n",
       "      <td>0.000000</td>\n",
       "      <td>1.000000</td>\n",
       "      <td>1.000000</td>\n",
       "      <td>0.000000</td>\n",
       "      <td>6.000000</td>\n",
       "      <td>60000.000000</td>\n",
       "      <td>1.000000</td>\n",
       "      <td>2.000000</td>\n",
       "      <td>1.0</td>\n",
       "      <td>...</td>\n",
       "      <td>1.0</td>\n",
       "      <td>1.0</td>\n",
       "      <td>1.0</td>\n",
       "      <td>1.0</td>\n",
       "      <td>1.0</td>\n",
       "      <td>1.0</td>\n",
       "      <td>1.0</td>\n",
       "      <td>1.0</td>\n",
       "      <td>1.0</td>\n",
       "      <td>20000.000000</td>\n",
       "    </tr>\n",
       "    <tr>\n",
       "      <th>75%</th>\n",
       "      <td>33.000000</td>\n",
       "      <td>0.000000</td>\n",
       "      <td>1.000000</td>\n",
       "      <td>1.000000</td>\n",
       "      <td>1.000000</td>\n",
       "      <td>12.000000</td>\n",
       "      <td>77000.000000</td>\n",
       "      <td>1.000000</td>\n",
       "      <td>2.000000</td>\n",
       "      <td>1.0</td>\n",
       "      <td>...</td>\n",
       "      <td>1.0</td>\n",
       "      <td>1.0</td>\n",
       "      <td>1.0</td>\n",
       "      <td>1.0</td>\n",
       "      <td>1.0</td>\n",
       "      <td>1.0</td>\n",
       "      <td>1.0</td>\n",
       "      <td>1.0</td>\n",
       "      <td>1.0</td>\n",
       "      <td>40000.000000</td>\n",
       "    </tr>\n",
       "    <tr>\n",
       "      <th>max</th>\n",
       "      <td>86.000000</td>\n",
       "      <td>1.000000</td>\n",
       "      <td>1.000000</td>\n",
       "      <td>1.000000</td>\n",
       "      <td>1.000000</td>\n",
       "      <td>220.000000</td>\n",
       "      <td>200000.000000</td>\n",
       "      <td>1.000000</td>\n",
       "      <td>18.000000</td>\n",
       "      <td>1.0</td>\n",
       "      <td>...</td>\n",
       "      <td>1.0</td>\n",
       "      <td>1.0</td>\n",
       "      <td>1.0</td>\n",
       "      <td>1.0</td>\n",
       "      <td>1.0</td>\n",
       "      <td>1.0</td>\n",
       "      <td>1.0</td>\n",
       "      <td>1.0</td>\n",
       "      <td>1.0</td>\n",
       "      <td>1000000.000000</td>\n",
       "    </tr>\n",
       "  </tbody>\n",
       "</table>\n",
       "<p>8 rows × 85 columns</p>\n",
       "</div>"
      ],
      "text/plain": [
       "                Age  AttendedBootcamp  BootcampFinish  BootcampFullJobAfter  \\\n",
       "count  13613.000000      15380.000000      933.000000            635.000000   \n",
       "mean      29.175714          0.061964        0.689175              0.584252   \n",
       "std        9.017580          0.241097        0.463080              0.493239   \n",
       "min       10.000000          0.000000        0.000000              0.000000   \n",
       "25%       23.000000          0.000000        0.000000              0.000000   \n",
       "50%       27.000000          0.000000        1.000000              1.000000   \n",
       "75%       33.000000          0.000000        1.000000              1.000000   \n",
       "max       86.000000          1.000000        1.000000              1.000000   \n",
       "\n",
       "       BootcampLoanYesNo  BootcampMonthsAgo  BootcampPostSalary  \\\n",
       "count         934.000000         631.000000          330.000000   \n",
       "mean            0.332976           9.055468        63740.506061   \n",
       "std             0.471531          12.968035        26347.200265   \n",
       "min             0.000000           0.000000         6000.000000   \n",
       "25%             0.000000           3.000000        50000.000000   \n",
       "50%             0.000000           6.000000        60000.000000   \n",
       "75%             1.000000          12.000000        77000.000000   \n",
       "max             1.000000         220.000000       200000.000000   \n",
       "\n",
       "       BootcampRecommend  ChildrenNumber  CodeEventBootcamp  ...  \\\n",
       "count         937.000000     2554.000000               42.0  ...   \n",
       "mean            0.785486        1.896241                1.0  ...   \n",
       "std             0.410704        1.115975                0.0  ...   \n",
       "min             0.000000        0.000000                1.0  ...   \n",
       "25%             1.000000        1.000000                1.0  ...   \n",
       "50%             1.000000        2.000000                1.0  ...   \n",
       "75%             1.000000        2.000000                1.0  ...   \n",
       "max             1.000000       18.000000                1.0  ...   \n",
       "\n",
       "       ResourceReddit  ResourceSkillCrush  ResourceSoloLearn  \\\n",
       "count            29.0                36.0               30.0   \n",
       "mean              1.0                 1.0                1.0   \n",
       "std               0.0                 0.0                0.0   \n",
       "min               1.0                 1.0                1.0   \n",
       "25%               1.0                 1.0                1.0   \n",
       "50%               1.0                 1.0                1.0   \n",
       "75%               1.0                 1.0                1.0   \n",
       "max               1.0                 1.0                1.0   \n",
       "\n",
       "       ResourceStackOverflow  ResourceTreehouse  ResourceUdacity  \\\n",
       "count                  191.0              422.0           3306.0   \n",
       "mean                     1.0                1.0              1.0   \n",
       "std                      0.0                0.0              0.0   \n",
       "min                      1.0                1.0              1.0   \n",
       "25%                      1.0                1.0              1.0   \n",
       "50%                      1.0                1.0              1.0   \n",
       "75%                      1.0                1.0              1.0   \n",
       "max                      1.0                1.0              1.0   \n",
       "\n",
       "       ResourceUdemy  ResourceW3Schools  ResourceYouTube  StudentDebtOwe  \n",
       "count         4130.0              121.0            121.0     3514.000000  \n",
       "mean             1.0                1.0              1.0    34556.143711  \n",
       "std              0.0                0.0              0.0    54423.139781  \n",
       "min              1.0                1.0              1.0        0.000000  \n",
       "25%              1.0                1.0              1.0    10000.000000  \n",
       "50%              1.0                1.0              1.0    20000.000000  \n",
       "75%              1.0                1.0              1.0    40000.000000  \n",
       "max              1.0                1.0              1.0  1000000.000000  \n",
       "\n",
       "[8 rows x 85 columns]"
      ]
     },
     "execution_count": 4,
     "metadata": {},
     "output_type": "execute_result"
    }
   ],
   "source": [
    "# Características dos dados\n",
    "dados.describe()"
   ]
  },
  {
   "cell_type": "code",
   "execution_count": 5,
   "metadata": {},
   "outputs": [
    {
     "data": {
      "text/plain": [
       "['Age',\n",
       " 'AttendedBootcamp',\n",
       " 'BootcampFinish',\n",
       " 'BootcampFullJobAfter',\n",
       " 'BootcampLoanYesNo',\n",
       " 'BootcampMonthsAgo',\n",
       " 'BootcampName',\n",
       " 'BootcampPostSalary',\n",
       " 'BootcampRecommend',\n",
       " 'ChildrenNumber',\n",
       " 'CityPopulation',\n",
       " 'CodeEventBootcamp',\n",
       " 'CodeEventCoffee',\n",
       " 'CodeEventConferences',\n",
       " 'CodeEventDjangoGirls',\n",
       " 'CodeEventGameJam',\n",
       " 'CodeEventGirlDev',\n",
       " 'CodeEventHackathons',\n",
       " 'CodeEventMeetup',\n",
       " 'CodeEventNodeSchool',\n",
       " 'CodeEventNone',\n",
       " 'CodeEventOther',\n",
       " 'CodeEventRailsBridge',\n",
       " 'CodeEventRailsGirls',\n",
       " 'CodeEventStartUpWknd',\n",
       " 'CodeEventWomenCode',\n",
       " 'CodeEventWorkshop',\n",
       " 'CommuteTime',\n",
       " 'CountryCitizen',\n",
       " 'CountryLive',\n",
       " 'EmploymentField',\n",
       " 'EmploymentFieldOther',\n",
       " 'EmploymentStatus',\n",
       " 'EmploymentStatusOther',\n",
       " 'ExpectedEarning',\n",
       " 'FinanciallySupporting',\n",
       " 'Gender',\n",
       " 'HasChildren',\n",
       " 'HasDebt',\n",
       " 'HasFinancialDependents',\n",
       " 'HasHighSpdInternet',\n",
       " 'HasHomeMortgage',\n",
       " 'HasServedInMilitary',\n",
       " 'HasStudentDebt',\n",
       " 'HomeMortgageOwe',\n",
       " 'HoursLearning',\n",
       " 'ID.x',\n",
       " 'ID.y',\n",
       " 'Income',\n",
       " 'IsEthnicMinority',\n",
       " 'IsReceiveDiabilitiesBenefits',\n",
       " 'IsSoftwareDev',\n",
       " 'IsUnderEmployed',\n",
       " 'JobApplyWhen',\n",
       " 'JobPref',\n",
       " 'JobRelocateYesNo',\n",
       " 'JobRoleInterest',\n",
       " 'JobRoleInterestOther',\n",
       " 'JobWherePref',\n",
       " 'LanguageAtHome',\n",
       " 'MaritalStatus',\n",
       " 'MoneyForLearning',\n",
       " 'MonthsProgramming',\n",
       " 'NetworkID',\n",
       " 'Part1EndTime',\n",
       " 'Part1StartTime',\n",
       " 'Part2EndTime',\n",
       " 'Part2StartTime',\n",
       " 'PodcastChangeLog',\n",
       " 'PodcastCodeNewbie',\n",
       " 'PodcastCodingBlocks',\n",
       " 'PodcastDeveloperTea',\n",
       " 'PodcastDotNetRocks',\n",
       " 'PodcastHanselminutes',\n",
       " 'PodcastJSJabber',\n",
       " 'PodcastJsAir',\n",
       " 'PodcastNone',\n",
       " 'PodcastOther',\n",
       " 'PodcastProgrammingThrowDown',\n",
       " 'PodcastRubyRogues',\n",
       " 'PodcastSEDaily',\n",
       " 'PodcastShopTalk',\n",
       " 'PodcastTalkPython',\n",
       " 'PodcastWebAhead',\n",
       " 'ResourceBlogs',\n",
       " 'ResourceBooks',\n",
       " 'ResourceCodeWars',\n",
       " 'ResourceCodecademy',\n",
       " 'ResourceCoursera',\n",
       " 'ResourceDevTips',\n",
       " 'ResourceEdX',\n",
       " 'ResourceEggHead',\n",
       " 'ResourceFCC',\n",
       " 'ResourceGoogle',\n",
       " 'ResourceHackerRank',\n",
       " 'ResourceKhanAcademy',\n",
       " 'ResourceLynda',\n",
       " 'ResourceMDN',\n",
       " 'ResourceOdinProj',\n",
       " 'ResourceOther',\n",
       " 'ResourcePluralSight',\n",
       " 'ResourceReddit',\n",
       " 'ResourceSkillCrush',\n",
       " 'ResourceSoloLearn',\n",
       " 'ResourceStackOverflow',\n",
       " 'ResourceTreehouse',\n",
       " 'ResourceUdacity',\n",
       " 'ResourceUdemy',\n",
       " 'ResourceW3Schools',\n",
       " 'ResourceYouTube',\n",
       " 'SchoolDegree',\n",
       " 'SchoolMajor',\n",
       " 'StudentDebtOwe']"
      ]
     },
     "execution_count": 5,
     "metadata": {},
     "output_type": "execute_result"
    }
   ],
   "source": [
    "# Atributo dos dados\n",
    "list(dados)"
   ]
  },
  {
   "cell_type": "markdown",
   "metadata": {},
   "source": [
    "## Removendo Atributos"
   ]
  },
  {
   "cell_type": "code",
   "execution_count": 6,
   "metadata": {},
   "outputs": [],
   "source": [
    "# Removendo atributos que não serão necessários para a análise\n",
    "dados.drop([\"AttendedBootcamp\",'BootcampFinish','BootcampFullJobAfter', \"BootcampLoanYesNo\", \"BootcampMonthsAgo\", \n",
    "            \"BootcampRecommend\", \"CodeEventBootcamp\", 'BootcampName','BootcampPostSalary','BootcampRecommend','ChildrenNumber',\n",
    "            'CityPopulation','CodeEventCoffee','CodeEventConferences','CodeEventDjangoGirls','CodeEventGameJam',\n",
    "            'CodeEventGirlDev','CodeEventHackathons','CodeEventMeetup','CodeEventNodeSchool','CodeEventNone','CodeEventOther',\n",
    "            'CodeEventRailsBridge','CodeEventRailsGirls','CodeEventStartUpWknd','CodeEventWomenCode','CodeEventWorkshop',\n",
    "            'CommuteTime','CountryCitizen','FinanciallySupporting','HasChildren','HasDebt','HasFinancialDependents',\n",
    "            'HasHighSpdInternet','HasHomeMortgage','HasServedInMilitary','HasStudentDebt','HomeMortgageOwe',\"ID.x\", \"ID.y\",\n",
    "            'IsEthnicMinority','IsReceiveDiabilitiesBenefits','IsUnderEmployed','IsSoftwareDev','JobApplyWhen','LanguageAtHome',\n",
    "            'MaritalStatus','MonthsProgramming', \"NetworkID\", 'Part1EndTime','Part1StartTime','Part2EndTime','Part2StartTime', \n",
    "            'PodcastChangeLog','StudentDebtOwe','PodcastCodeNewbie','PodcastCodingBlocks','PodcastDeveloperTea',\n",
    "            'PodcastDotNetRocks','PodcastHanselminutes','PodcastJSJabber','PodcastJsAir','PodcastNone','PodcastOther',\n",
    "            'PodcastProgrammingThrowDown','PodcastRubyRogues','PodcastSEDaily','PodcastShopTalk','PodcastTalkPython',\n",
    "            'PodcastWebAhead', 'ResourceBlogs','ResourceBooks','ResourceCodeWars','ResourceCodecademy','ResourceCoursera',\n",
    "            'ResourceDevTips','ResourceEdX','ResourceEggHead','ResourceFCC','ResourceGoogle','ResourceHackerRank',\n",
    "            'ResourceKhanAcademy','ResourceLynda','ResourceMDN','ResourceOdinProj','ResourceOther','ResourcePluralSight',\n",
    "            'ResourceReddit','ResourceSkillCrush','ResourceSoloLearn','ResourceStackOverflow','ResourceTreehouse',\n",
    "            'ResourceUdacity','ResourceUdemy','ResourceW3Schools','ResourceYouTube','SchoolMajor'], axis=1,inplace=True)"
   ]
  },
  {
   "cell_type": "code",
   "execution_count": 7,
   "metadata": {},
   "outputs": [],
   "source": [
    "# Criando uma cópia dos dados\n",
    "dados_copia1 = dados.copy()"
   ]
  },
  {
   "cell_type": "code",
   "execution_count": 8,
   "metadata": {},
   "outputs": [
    {
     "data": {
      "text/plain": [
       "['Age',\n",
       " 'CountryLive',\n",
       " 'EmploymentField',\n",
       " 'EmploymentFieldOther',\n",
       " 'EmploymentStatus',\n",
       " 'EmploymentStatusOther',\n",
       " 'ExpectedEarning',\n",
       " 'Gender',\n",
       " 'HoursLearning',\n",
       " 'Income',\n",
       " 'JobPref',\n",
       " 'JobRelocateYesNo',\n",
       " 'JobRoleInterest',\n",
       " 'JobRoleInterestOther',\n",
       " 'JobWherePref',\n",
       " 'MoneyForLearning',\n",
       " 'SchoolDegree']"
      ]
     },
     "execution_count": 8,
     "metadata": {},
     "output_type": "execute_result"
    }
   ],
   "source": [
    "# Atributos Restantes\n",
    "list(dados)"
   ]
  },
  {
   "cell_type": "markdown",
   "metadata": {},
   "source": [
    "## Verificando valores nulos"
   ]
  },
  {
   "cell_type": "code",
   "execution_count": 9,
   "metadata": {},
   "outputs": [
    {
     "data": {
      "text/plain": [
       "JobRoleInterestOther     15421\n",
       "EmploymentStatusOther    14939\n",
       "EmploymentFieldOther     14565\n",
       "JobRelocateYesNo         10133\n",
       "ExpectedEarning           9543\n",
       "JobRoleInterest           9117\n",
       "JobWherePref              8881\n",
       "Income                    8291\n",
       "EmploymentField           8012\n",
       "JobPref                   4431\n",
       "EmploymentStatus          2716\n",
       "CountryLive               2010\n",
       "Age                       2007\n",
       "SchoolDegree              1941\n",
       "Gender                    1874\n",
       "MoneyForLearning           941\n",
       "HoursLearning              678\n",
       "dtype: int64"
      ]
     },
     "execution_count": 9,
     "metadata": {},
     "output_type": "execute_result"
    }
   ],
   "source": [
    "# Identificando valores nulos\n",
    "dados.isnull().sum().sort_values(ascending=False)"
   ]
  },
  {
   "cell_type": "code",
   "execution_count": 10,
   "metadata": {},
   "outputs": [],
   "source": [
    "# Alterando valores nulos para \"unspecified\" \n",
    "dados.fillna(\"unspecified\", inplace=True)"
   ]
  },
  {
   "cell_type": "code",
   "execution_count": 11,
   "metadata": {},
   "outputs": [
    {
     "data": {
      "text/html": [
       "<div>\n",
       "<style scoped>\n",
       "    .dataframe tbody tr th:only-of-type {\n",
       "        vertical-align: middle;\n",
       "    }\n",
       "\n",
       "    .dataframe tbody tr th {\n",
       "        vertical-align: top;\n",
       "    }\n",
       "\n",
       "    .dataframe thead th {\n",
       "        text-align: right;\n",
       "    }\n",
       "</style>\n",
       "<table border=\"1\" class=\"dataframe\">\n",
       "  <thead>\n",
       "    <tr style=\"text-align: right;\">\n",
       "      <th></th>\n",
       "      <th>Age</th>\n",
       "      <th>CountryLive</th>\n",
       "      <th>EmploymentField</th>\n",
       "      <th>EmploymentFieldOther</th>\n",
       "      <th>EmploymentStatus</th>\n",
       "      <th>EmploymentStatusOther</th>\n",
       "      <th>ExpectedEarning</th>\n",
       "      <th>Gender</th>\n",
       "      <th>HoursLearning</th>\n",
       "      <th>Income</th>\n",
       "      <th>JobPref</th>\n",
       "      <th>JobRelocateYesNo</th>\n",
       "      <th>JobRoleInterest</th>\n",
       "      <th>JobRoleInterestOther</th>\n",
       "      <th>JobWherePref</th>\n",
       "      <th>MoneyForLearning</th>\n",
       "      <th>SchoolDegree</th>\n",
       "    </tr>\n",
       "  </thead>\n",
       "  <tbody>\n",
       "  </tbody>\n",
       "</table>\n",
       "</div>"
      ],
      "text/plain": [
       "Empty DataFrame\n",
       "Columns: [Age, CountryLive, EmploymentField, EmploymentFieldOther, EmploymentStatus, EmploymentStatusOther, ExpectedEarning, Gender, HoursLearning, Income, JobPref, JobRelocateYesNo, JobRoleInterest, JobRoleInterestOther, JobWherePref, MoneyForLearning, SchoolDegree]\n",
       "Index: []"
      ]
     },
     "execution_count": 11,
     "metadata": {},
     "output_type": "execute_result"
    }
   ],
   "source": [
    "# Na cópia do dados, eliminando valores nulos\n",
    "dados_copia1.dropna()"
   ]
  },
  {
   "cell_type": "code",
   "execution_count": 12,
   "metadata": {},
   "outputs": [
    {
     "data": {
      "text/html": [
       "<div>\n",
       "<style scoped>\n",
       "    .dataframe tbody tr th:only-of-type {\n",
       "        vertical-align: middle;\n",
       "    }\n",
       "\n",
       "    .dataframe tbody tr th {\n",
       "        vertical-align: top;\n",
       "    }\n",
       "\n",
       "    .dataframe thead th {\n",
       "        text-align: right;\n",
       "    }\n",
       "</style>\n",
       "<table border=\"1\" class=\"dataframe\">\n",
       "  <thead>\n",
       "    <tr style=\"text-align: right;\">\n",
       "      <th></th>\n",
       "      <th>Age</th>\n",
       "      <th>CountryLive</th>\n",
       "      <th>EmploymentField</th>\n",
       "      <th>EmploymentFieldOther</th>\n",
       "      <th>EmploymentStatus</th>\n",
       "      <th>EmploymentStatusOther</th>\n",
       "      <th>ExpectedEarning</th>\n",
       "      <th>Gender</th>\n",
       "      <th>HoursLearning</th>\n",
       "      <th>Income</th>\n",
       "      <th>JobPref</th>\n",
       "      <th>JobRelocateYesNo</th>\n",
       "      <th>JobRoleInterest</th>\n",
       "      <th>JobRoleInterestOther</th>\n",
       "      <th>JobWherePref</th>\n",
       "      <th>MoneyForLearning</th>\n",
       "      <th>SchoolDegree</th>\n",
       "    </tr>\n",
       "  </thead>\n",
       "  <tbody>\n",
       "    <tr>\n",
       "      <th>0</th>\n",
       "      <td>28</td>\n",
       "      <td>United States of America</td>\n",
       "      <td>office and administrative support</td>\n",
       "      <td>unspecified</td>\n",
       "      <td>Employed for wages</td>\n",
       "      <td>unspecified</td>\n",
       "      <td>unspecified</td>\n",
       "      <td>male</td>\n",
       "      <td>30</td>\n",
       "      <td>32000</td>\n",
       "      <td>freelance</td>\n",
       "      <td>unspecified</td>\n",
       "      <td>unspecified</td>\n",
       "      <td>unspecified</td>\n",
       "      <td>unspecified</td>\n",
       "      <td>0</td>\n",
       "      <td>some college credit, no degree</td>\n",
       "    </tr>\n",
       "    <tr>\n",
       "      <th>1</th>\n",
       "      <td>22</td>\n",
       "      <td>United States of America</td>\n",
       "      <td>food and beverage</td>\n",
       "      <td>unspecified</td>\n",
       "      <td>Employed for wages</td>\n",
       "      <td>unspecified</td>\n",
       "      <td>50000</td>\n",
       "      <td>male</td>\n",
       "      <td>30</td>\n",
       "      <td>15000</td>\n",
       "      <td>work for a startup</td>\n",
       "      <td>1</td>\n",
       "      <td>Front-End Web Developer</td>\n",
       "      <td>unspecified</td>\n",
       "      <td>in an office with other developers</td>\n",
       "      <td>20</td>\n",
       "      <td>some college credit, no degree</td>\n",
       "    </tr>\n",
       "    <tr>\n",
       "      <th>2</th>\n",
       "      <td>19</td>\n",
       "      <td>United States of America</td>\n",
       "      <td>finance</td>\n",
       "      <td>unspecified</td>\n",
       "      <td>Employed for wages</td>\n",
       "      <td>unspecified</td>\n",
       "      <td>unspecified</td>\n",
       "      <td>male</td>\n",
       "      <td>20</td>\n",
       "      <td>48000</td>\n",
       "      <td>start your own business</td>\n",
       "      <td>unspecified</td>\n",
       "      <td>unspecified</td>\n",
       "      <td>unspecified</td>\n",
       "      <td>unspecified</td>\n",
       "      <td>50</td>\n",
       "      <td>high school diploma or equivalent (GED)</td>\n",
       "    </tr>\n",
       "    <tr>\n",
       "      <th>3</th>\n",
       "      <td>26</td>\n",
       "      <td>United States of America</td>\n",
       "      <td>arts, entertainment, sports, or media</td>\n",
       "      <td>unspecified</td>\n",
       "      <td>Employed for wages</td>\n",
       "      <td>unspecified</td>\n",
       "      <td>65000</td>\n",
       "      <td>female</td>\n",
       "      <td>20</td>\n",
       "      <td>43000</td>\n",
       "      <td>work for a startup</td>\n",
       "      <td>unspecified</td>\n",
       "      <td>Front-End Web Developer</td>\n",
       "      <td>unspecified</td>\n",
       "      <td>from home</td>\n",
       "      <td>100</td>\n",
       "      <td>bachelor's degree</td>\n",
       "    </tr>\n",
       "    <tr>\n",
       "      <th>4</th>\n",
       "      <td>20</td>\n",
       "      <td>United States of America</td>\n",
       "      <td>education</td>\n",
       "      <td>unspecified</td>\n",
       "      <td>Employed for wages</td>\n",
       "      <td>unspecified</td>\n",
       "      <td>45000</td>\n",
       "      <td>female</td>\n",
       "      <td>25</td>\n",
       "      <td>6000</td>\n",
       "      <td>work for a medium-sized company</td>\n",
       "      <td>1</td>\n",
       "      <td>Full-Stack Web Developer</td>\n",
       "      <td>unspecified</td>\n",
       "      <td>in an office with other developers</td>\n",
       "      <td>1300</td>\n",
       "      <td>some college credit, no degree</td>\n",
       "    </tr>\n",
       "  </tbody>\n",
       "</table>\n",
       "</div>"
      ],
      "text/plain": [
       "  Age               CountryLive                        EmploymentField  \\\n",
       "0  28  United States of America      office and administrative support   \n",
       "1  22  United States of America                      food and beverage   \n",
       "2  19  United States of America                                finance   \n",
       "3  26  United States of America  arts, entertainment, sports, or media   \n",
       "4  20  United States of America                              education   \n",
       "\n",
       "  EmploymentFieldOther    EmploymentStatus EmploymentStatusOther  \\\n",
       "0          unspecified  Employed for wages           unspecified   \n",
       "1          unspecified  Employed for wages           unspecified   \n",
       "2          unspecified  Employed for wages           unspecified   \n",
       "3          unspecified  Employed for wages           unspecified   \n",
       "4          unspecified  Employed for wages           unspecified   \n",
       "\n",
       "  ExpectedEarning  Gender HoursLearning Income  \\\n",
       "0     unspecified    male            30  32000   \n",
       "1           50000    male            30  15000   \n",
       "2     unspecified    male            20  48000   \n",
       "3           65000  female            20  43000   \n",
       "4           45000  female            25   6000   \n",
       "\n",
       "                           JobPref JobRelocateYesNo  \\\n",
       "0                       freelance       unspecified   \n",
       "1               work for a startup                1   \n",
       "2          start your own business      unspecified   \n",
       "3               work for a startup      unspecified   \n",
       "4  work for a medium-sized company                1   \n",
       "\n",
       "             JobRoleInterest JobRoleInterestOther  \\\n",
       "0                unspecified          unspecified   \n",
       "1    Front-End Web Developer          unspecified   \n",
       "2                unspecified          unspecified   \n",
       "3    Front-End Web Developer          unspecified   \n",
       "4   Full-Stack Web Developer          unspecified   \n",
       "\n",
       "                         JobWherePref MoneyForLearning  \\\n",
       "0                         unspecified                0   \n",
       "1  in an office with other developers               20   \n",
       "2                         unspecified               50   \n",
       "3                           from home              100   \n",
       "4  in an office with other developers             1300   \n",
       "\n",
       "                              SchoolDegree  \n",
       "0           some college credit, no degree  \n",
       "1           some college credit, no degree  \n",
       "2  high school diploma or equivalent (GED)  \n",
       "3                        bachelor's degree  \n",
       "4           some college credit, no degree  "
      ]
     },
     "execution_count": 12,
     "metadata": {},
     "output_type": "execute_result"
    }
   ],
   "source": [
    "# Amostra dos dados\n",
    "dados.head(5)"
   ]
  },
  {
   "cell_type": "markdown",
   "metadata": {},
   "source": [
    "# Análise dos Dados"
   ]
  },
  {
   "cell_type": "markdown",
   "metadata": {},
   "source": [
    "## Distribuição de idade"
   ]
  },
  {
   "cell_type": "code",
   "execution_count": 13,
   "metadata": {},
   "outputs": [
    {
     "data": {
      "text/plain": [
       "Text(0.5, 1.0, 'Idade dos Participantes da Pesquisa')"
      ]
     },
     "execution_count": 13,
     "metadata": {},
     "output_type": "execute_result"
    },
    {
     "data": {
      "image/png": "[encoded data removed]",
      "text/plain": [
       "<Figure size 432x288 with 1 Axes>"
      ]
     },
     "metadata": {
      "needs_background": "light"
     },
     "output_type": "display_data"
    }
   ],
   "source": [
    "# Gráfico da distribuição etária dos participantes da pesquisa\n",
    "dados_copia1.Age.hist(bins=15)\n",
    "plt.xlabel(\"Idade\", fontsize=14)\n",
    "plt.ylabel(\"Participantes\", fontsize=14)\n",
    "plt.title(\"Idade dos Participantes da Pesquisa\", fontsize = 14)"
   ]
  },
  {
   "cell_type": "markdown",
   "metadata": {},
   "source": [
    "### Podemos perceber que a maioria dos particpantes da entrevista tem entre 20 e 30 anos e conforme a idade aumenta, diminui a quantidade de participantes."
   ]
  },
  {
   "cell_type": "markdown",
   "metadata": {},
   "source": [
    "## Distribuição de sexo"
   ]
  },
  {
   "cell_type": "code",
   "execution_count": 14,
   "metadata": {},
   "outputs": [
    {
     "data": {
      "text/plain": [
       "Text(0.5, 1.0, 'Sexo dos Participantes')"
      ]
     },
     "execution_count": 14,
     "metadata": {},
     "output_type": "execute_result"
    },
    {
     "data": {
      "image/png": "[encoded data removed]",
      "text/plain": [
       "<Figure size 432x288 with 1 Axes>"
      ]
     },
     "metadata": {},
     "output_type": "display_data"
    }
   ],
   "source": [
    "# Gráfico da distribuição do sexo dos participantes da pesquisa\n",
    "\n",
    "# Definindo a quantidade\n",
    "labels = dados.Gender.value_counts().index\n",
    "num = len(dados.EmploymentField.value_counts().index)\n",
    "\n",
    "# Definindo as cores\n",
    "cores = [\"b\", \"g\", \"y\", \"r\", \"k\"]\n",
    "\n",
    "# Gráfico de Pizza\n",
    "fatias, texto = plt.pie(dados.Gender.value_counts(), colors = cores, startangle = 90)\n",
    "plt.legend(fatias, labels, bbox_to_anchor = (1,1))\n",
    "plt.title(\"Sexo dos Participantes\")"
   ]
  },
  {
   "cell_type": "markdown",
   "metadata": {},
   "source": [
    "### Pelo gráfico podemos constatar que a grande maioria dos participantes da pesquisa é do sexo masculino"
   ]
  },
  {
   "cell_type": "markdown",
   "metadata": {},
   "source": [
    "## Distribuição do Interesse Profissional"
   ]
  },
  {
   "cell_type": "code",
   "execution_count": 15,
   "metadata": {},
   "outputs": [
    {
     "data": {
      "text/plain": [
       "Text(0.5, 1.0, 'Interesse Profissional')"
      ]
     },
     "execution_count": 15,
     "metadata": {},
     "output_type": "execute_result"
    },
    {
     "data": {
      "image/png": "[encoded data removed]",
      "text/plain": [
       "<Figure size 432x288 with 1 Axes>"
      ]
     },
     "metadata": {},
     "output_type": "display_data"
    }
   ],
   "source": [
    "# Gráfico para demonstrar o interesse profissional dos partipantes da pesquisa\n",
    "\n",
    "# Definindo a quantidade\n",
    "num = len(dados.JobRoleInterest.value_counts().index)\n",
    "labels = dados.JobRoleInterest.value_counts().index\n",
    "\n",
    "# Gráfico de Pizza\n",
    "fatias, texto = plt.pie(dados.JobRoleInterest.value_counts(), startangle = 90)\n",
    "plt.legend(fatias, labels, bbox_to_anchor = (1, 1))\n",
    "plt.title(\"Interesse Profissional\")\n"
   ]
  },
  {
   "cell_type": "markdown",
   "metadata": {},
   "source": [
    "### Pelo gráfico podemos observar que grande parte dos participantes da pesquisa não responderam o interesse profissional. Porém, daqueles que responderam, a área de maior interesse é a área voltada para o desenvolvimento de software, como desenvolvimento Full-Stack, Front-End e Back-End. Em seguida, a área de maior interesse é a área de Ciência de Dados."
   ]
  },
  {
   "cell_type": "markdown",
   "metadata": {},
   "source": [
    "## Distribuição de Empregabilidade"
   ]
  },
  {
   "cell_type": "code",
   "execution_count": 16,
   "metadata": {},
   "outputs": [
    {
     "data": {
      "text/plain": [
       "Text(0.5, 1.0, 'Empregabilidade')"
      ]
     },
     "execution_count": 16,
     "metadata": {},
     "output_type": "execute_result"
    },
    {
     "data": {
      "image/png": "[encoded data removed]",
      "text/plain": [
       "<Figure size 432x288 with 1 Axes>"
      ]
     },
     "metadata": {},
     "output_type": "display_data"
    }
   ],
   "source": [
    "# Gráfico que demonstra se o entrevistado está ou não atuando no mercado de trabalho\n",
    "\n",
    "# Definindo a quantidade\n",
    "num = len(dados.EmploymentStatus.value_counts().index)\n",
    "labels = dados.EmploymentStatus.value_counts().index\n",
    "\n",
    "# Gráfico de pizza\n",
    "fatias, texto = plt.pie(dados.EmploymentStatus.value_counts(), startangle = 90)\n",
    "plt.legend(fatias, labels, bbox_to_anchor = (1, 1))\n",
    "plt.title(\"Empregabilidade\")"
   ]
  },
  {
   "cell_type": "markdown",
   "metadata": {},
   "source": [
    "### Pelo gráfico podemos perceber que uma grande parte dos entrevistados está atuando como profissional contratado por empresas, seguindo por profissionais que não estão trabalhando mas procurando uma oportunidde."
   ]
  },
  {
   "cell_type": "code",
   "execution_count": 17,
   "metadata": {},
   "outputs": [
    {
     "data": {
      "text/plain": [
       "Text(0.5, 1.0, 'Área de trabalho')"
      ]
     },
     "execution_count": 17,
     "metadata": {},
     "output_type": "execute_result"
    },
    {
     "data": {
      "image/png": "[encoded data removed]",
      "text/plain": [
       "<Figure size 432x288 with 1 Axes>"
      ]
     },
     "metadata": {},
     "output_type": "display_data"
    }
   ],
   "source": [
    "# Área de trabalho dos participantes da pesquisa\n",
    "\n",
    "# Definindo a quantidade\n",
    "num = len(dados.EmploymentField.value_counts().index)\n",
    "labels = dados.EmploymentField.value_counts().index\n",
    "\n",
    "# Gráfico de pizza\n",
    "fatias, texto = plt.pie(dados.EmploymentField.value_counts(), startangle = 90)\n",
    "plt.legend(fatias, labels, bbox_to_anchor = (1, 1))\n",
    "plt.title(\"Área de trabalho\")\n"
   ]
  },
  {
   "cell_type": "markdown",
   "metadata": {},
   "source": [
    "### Pelo gráfico podemos observar que, dos participantes que responderam este campo, mais da metade trabalham na área de software e TI, seguido pela área da educação."
   ]
  },
  {
   "cell_type": "markdown",
   "metadata": {},
   "source": [
    "## Preferência de Trabalho por Idade"
   ]
  },
  {
   "cell_type": "code",
   "execution_count": 18,
   "metadata": {},
   "outputs": [
    {
     "data": {
      "text/plain": [
       "<matplotlib.legend.Legend at 0x1e984022148>"
      ]
     },
     "execution_count": 18,
     "metadata": {},
     "output_type": "execute_result"
    },
    {
     "data": {
      "image/png": "[encoded data removed]",
      "text/plain": [
       "<Figure size 432x288 with 1 Axes>"
      ]
     },
     "metadata": {
      "needs_background": "light"
     },
     "output_type": "display_data"
    }
   ],
   "source": [
    "# Definição de quais as preferências de trabalho conforme idade dos participantes\n",
    "\n",
    "# Criando uma cópia do DataFrame\n",
    "dados_geracoes = dados_copia1.copy()\n",
    "bins = [0, 20, 30, 40, 50, 60, 70, 100]\n",
    "\n",
    "# Agrupando os dados\n",
    "dados_geracoes[\"AgesRanges\"] = pd.cut(dados_geracoes[\"Age\"],\n",
    "                                     bins,\n",
    "                                     labels = [\"<20\", \"20-30\", \"30-40\", \"40-50\", \"50-60\", \"60-70\", \">70\"])\n",
    "\n",
    "dados2  = pd.crosstab(dados_geracoes.AgesRanges, dados_geracoes.JobPref).apply(lambda r:r/r.sum(), axis=1)\n",
    "\n",
    "# Definindo a quantidade\n",
    "num = len(dados_geracoes.AgesRanges.value_counts().index)\n",
    "labels = dados_geracoes.AgesRanges.value_counts().index\n",
    "\n",
    "# Gráfico de barras\n",
    "ax1 = dados2.plot(kind = \"bar\", stacked = True, title = \"Preferência de Trabalho por Idade\")\n",
    "lines, labels = ax1.get_legend_handles_labels()\n",
    "ax1.legend(lines, labels, bbox_to_anchor = (1, 1))"
   ]
  },
  {
   "cell_type": "markdown",
   "metadata": {},
   "source": [
    "### De acordo com o gráfico podemos perceber que quanto maior é a idade do participante maior é a vontade de ser freelancer ou de começar seu próprio negócio. Também percebemos uma relação em que quanto mais jovem é o participante maior é sua vontade de trabalhar em uma starup. A vontade de trabalhar em uma empresa multinacional ou de médio porte se mantém sem muita variação entre as idades, com uma leve relação de diminuir com o aumento da idade."
   ]
  },
  {
   "cell_type": "markdown",
   "metadata": {},
   "source": [
    "## Realocação por Idade"
   ]
  },
  {
   "cell_type": "code",
   "execution_count": 19,
   "metadata": {},
   "outputs": [
    {
     "data": {
      "text/plain": [
       "<matplotlib.legend.Legend at 0x1e984450bc8>"
      ]
     },
     "execution_count": 19,
     "metadata": {},
     "output_type": "execute_result"
    },
    {
     "data": {
      "image/png": "[encoded data removed]",
      "text/plain": [
       "<Figure size 432x288 with 1 Axes>"
      ]
     },
     "metadata": {
      "needs_background": "light"
     },
     "output_type": "display_data"
    }
   ],
   "source": [
    "# Vontade dos participantes de trabalhar em uma nova empresa conforme sua faixa etária \n",
    "\n",
    "# Agrupando os dados\n",
    "dados3 = pd.crosstab(dados_geracoes.AgesRanges, dados_geracoes.JobRelocateYesNo).apply(lambda r:r/r.sum(), axis=1)\n",
    "\n",
    "# Definindo quantidade\n",
    "num = len(dados_geracoes.AgesRanges.value_counts().index)\n",
    "labels = dados_geracoes.AgesRanges.value_counts().index\n",
    "\n",
    "# Gráfico de barras\n",
    "ax1 = dados3.plot(kind = \"bar\", stacked = True, title = \"Relocação por Idade\")\n",
    "lines, labels = ax1.get_legend_handles_labels()\n",
    "ax1.legend(lines, [\"Não\",\"Sim\"], bbox_to_anchor = (1, 1))"
   ]
  },
  {
   "cell_type": "markdown",
   "metadata": {},
   "source": [
    "### Conforme o gráfico podemos observar que quanto menor a idade dos participantes maior é o desejo de trabalhar em uma nova empresa."
   ]
  },
  {
   "cell_type": "markdown",
   "metadata": {},
   "source": [
    "## Relação entre Idade e Horas de Apredizagem"
   ]
  },
  {
   "cell_type": "code",
   "execution_count": 20,
   "metadata": {},
   "outputs": [
    {
     "data": {
      "text/plain": [
       "Text(0.5, 1.0, 'Idade x Horas Estudo')"
      ]
     },
     "execution_count": 20,
     "metadata": {},
     "output_type": "execute_result"
    },
    {
     "data": {
      "image/png": "[encoded data removed]",
      "text/plain": [
       "<Figure size 432x288 with 1 Axes>"
      ]
     },
     "metadata": {
      "needs_background": "light"
     },
     "output_type": "display_data"
    }
   ],
   "source": [
    "# Relação dos participantes da pesquisa entre faixa etária e horas de estudos\n",
    "\n",
    "# Definindo os valores de x e y\n",
    "x = dados_copia1.Age\n",
    "y = dados_copia1.HoursLearning\n",
    "\n",
    "# Elaborando o gráfico\n",
    "plt.scatter(x, y, color= \"b\", s = 10)\n",
    "plt.xlabel(\"Idade\")\n",
    "plt.ylabel(\"Horas de estudo\")\n",
    "plt.title(\"Idade x Horas Estudo\")"
   ]
  },
  {
   "cell_type": "markdown",
   "metadata": {},
   "source": [
    "### Conforme o gráfico podemos perceber uma relação entre as idades no que se refere as horas de estudo, uma vez que dos 10 aos 60 anos os participantes mantém uma duração de ate 20 horas de estudo. Percebe-se também que entre os jovens as horas de estudo são maiores comparadas com os participantes de idade superior a 50 anos."
   ]
  },
  {
   "cell_type": "markdown",
   "metadata": {},
   "source": [
    "## Relação entre investimento em capacitação e expectativa salarial"
   ]
  },
  {
   "cell_type": "code",
   "execution_count": 21,
   "metadata": {},
   "outputs": [
    {
     "data": {
      "text/plain": [
       "Text(0.5, 1.0, 'Investimento Profisional x Expectativa Salarial')"
      ]
     },
     "execution_count": 21,
     "metadata": {},
     "output_type": "execute_result"
    },
    {
     "data": {
      "image/png": "[encoded data removed]",
      "text/plain": [
       "<Figure size 432x288 with 1 Axes>"
      ]
     },
     "metadata": {
      "needs_background": "light"
     },
     "output_type": "display_data"
    }
   ],
   "source": [
    "# Relação entre o dinheiro investido em capacitação por participante a sua respectiva expectativa salarial no ano\n",
    "\n",
    "# Remoção de Ouliers\n",
    "dados_copia1 = dados_copia1[dados_copia1.MoneyForLearning < 30000]\n",
    "\n",
    "# Definindo x e y\n",
    "x = dados_copia1.MoneyForLearning\n",
    "y = dados_copia1.ExpectedEarning\n",
    "\n",
    "# Elaborando o gráfico\n",
    "plt.scatter(x, y, color = \"b\", s = 10)\n",
    "plt.xlabel(\"Dinheiro investido\")\n",
    "plt.ylabel(\"Expectativa salarial\")\n",
    "plt.title(\"Investimento Profisional x Expectativa Salarial\")"
   ]
  },
  {
   "cell_type": "markdown",
   "metadata": {},
   "source": [
    "### Pelo gráfico podemos observar que muitos participantes da pesquisa não investem em sua carreira profissional mas esperam ganhar um salário alto."
   ]
  },
  {
   "cell_type": "markdown",
   "metadata": {},
   "source": [
    "## Relação entre escolaridade e renda"
   ]
  },
  {
   "cell_type": "code",
   "execution_count": 22,
   "metadata": {},
   "outputs": [
    {
     "data": {
      "text/html": [
       "<div>\n",
       "<style scoped>\n",
       "    .dataframe tbody tr th:only-of-type {\n",
       "        vertical-align: middle;\n",
       "    }\n",
       "\n",
       "    .dataframe tbody tr th {\n",
       "        vertical-align: top;\n",
       "    }\n",
       "\n",
       "    .dataframe thead th {\n",
       "        text-align: right;\n",
       "    }\n",
       "</style>\n",
       "<table border=\"1\" class=\"dataframe\">\n",
       "  <thead>\n",
       "    <tr style=\"text-align: right;\">\n",
       "      <th></th>\n",
       "      <th>School Degree</th>\n",
       "      <th>Avg Income</th>\n",
       "    </tr>\n",
       "  </thead>\n",
       "  <tbody>\n",
       "    <tr>\n",
       "      <th>9</th>\n",
       "      <td>Ph.D.</td>\n",
       "      <td>61239</td>\n",
       "    </tr>\n",
       "    <tr>\n",
       "      <th>7</th>\n",
       "      <td>professional degree (MBA, MD, JD, etc.)</td>\n",
       "      <td>52691</td>\n",
       "    </tr>\n",
       "    <tr>\n",
       "      <th>3</th>\n",
       "      <td>master's degree (non-professional)</td>\n",
       "      <td>49751</td>\n",
       "    </tr>\n",
       "    <tr>\n",
       "      <th>2</th>\n",
       "      <td>bachelor's degree</td>\n",
       "      <td>45917</td>\n",
       "    </tr>\n",
       "    <tr>\n",
       "      <th>10</th>\n",
       "      <td>no high school (secondary school)</td>\n",
       "      <td>43768</td>\n",
       "    </tr>\n",
       "    <tr>\n",
       "      <th>4</th>\n",
       "      <td>trade, technical, or vocational training</td>\n",
       "      <td>42858</td>\n",
       "    </tr>\n",
       "    <tr>\n",
       "      <th>5</th>\n",
       "      <td>associate's degree</td>\n",
       "      <td>41686</td>\n",
       "    </tr>\n",
       "    <tr>\n",
       "      <th>0</th>\n",
       "      <td>some college credit, no degree</td>\n",
       "      <td>40379</td>\n",
       "    </tr>\n",
       "    <tr>\n",
       "      <th>1</th>\n",
       "      <td>high school diploma or equivalent (GED)</td>\n",
       "      <td>36621</td>\n",
       "    </tr>\n",
       "    <tr>\n",
       "      <th>6</th>\n",
       "      <td>some high school</td>\n",
       "      <td>31977</td>\n",
       "    </tr>\n",
       "    <tr>\n",
       "      <th>8</th>\n",
       "      <td>NaN</td>\n",
       "      <td>0</td>\n",
       "    </tr>\n",
       "  </tbody>\n",
       "</table>\n",
       "</div>"
      ],
      "text/plain": [
       "                               School Degree  Avg Income\n",
       "9                                      Ph.D.       61239\n",
       "7    professional degree (MBA, MD, JD, etc.)       52691\n",
       "3         master's degree (non-professional)       49751\n",
       "2                          bachelor's degree       45917\n",
       "10         no high school (secondary school)       43768\n",
       "4   trade, technical, or vocational training       42858\n",
       "5                         associate's degree       41686\n",
       "0             some college credit, no degree       40379\n",
       "1    high school diploma or equivalent (GED)       36621\n",
       "6                           some high school       31977\n",
       "8                                        NaN           0"
      ]
     },
     "execution_count": 22,
     "metadata": {},
     "output_type": "execute_result"
    }
   ],
   "source": [
    "# Tabela sobre a relação educação e renda\n",
    "\n",
    "# Removendo avisos\n",
    "import warnings\n",
    "warnings.filterwarnings('ignore')\n",
    "\n",
    "# Criando tabela\n",
    "lista = pd.DataFrame()\n",
    "for m in list(dados_copia1[\"SchoolDegree\"].unique()):\n",
    "        s = dados_copia1[(dados[\"SchoolDegree\"]==m)][\"Income\"].mean()\n",
    "        lista = lista.append(pd.DataFrame({\"School Degree\": m, \"Avg Income\": s}, index=[0]))\n",
    "\n",
    "# Editando tabela\n",
    "lista = lista.reset_index()\n",
    "del lista[\"index\"]\n",
    "lista[\"Avg Income\"].fillna(0,inplace=True)\n",
    "lista[\"Avg Income\"] = lista[\"Avg Income\"].astype(int)\n",
    "lista = lista.sort_values([\"Avg Income\"], ascending=False)\n",
    "lista"
   ]
  },
  {
   "cell_type": "markdown",
   "metadata": {},
   "source": [
    "## Preferência por Local de Trabalho"
   ]
  },
  {
   "cell_type": "code",
   "execution_count": 23,
   "metadata": {},
   "outputs": [
    {
     "data": {
      "text/plain": [
       "<matplotlib.legend.Legend at 0x1e981961c48>"
      ]
     },
     "execution_count": 23,
     "metadata": {},
     "output_type": "execute_result"
    },
    {
     "data": {
      "image/png": "[encoded data removed]",
      "text/plain": [
       "<Figure size 432x288 with 1 Axes>"
      ]
     },
     "metadata": {
      "needs_background": "light"
     },
     "output_type": "display_data"
    }
   ],
   "source": [
    "# Gráfico representando a preferêcia de cada entrevistado por seu local de trabalho\n",
    "\n",
    "# Agrupando os dados\n",
    "dados4 = pd.crosstab(dados_geracoes.AgesRanges, dados_geracoes.JobWherePref).apply(lambda r:r/r.sum(), axis=1)\n",
    "\n",
    "# Definindo quantidade\n",
    "num = len(dados_geracoes.AgesRanges.value_counts().index)\n",
    "labels = dados_geracoes.AgesRanges.value_counts().index\n",
    "\n",
    "# Gráfico de barras\n",
    "ax1 = dados4.plot(kind = \"bar\", stacked = True, title = \"Preferência de Local de Trabalho\")\n",
    "lines, labels = ax1.get_legend_handles_labels()\n",
    "ax1.legend(lines, labels, bbox_to_anchor = (1, 1))"
   ]
  },
  {
   "cell_type": "markdown",
   "metadata": {},
   "source": [
    "### Pelo gráfico podemos perceber que muitos jovens gostariam de trabalhar em um escrtório e que com o aumento da idade ocorre um aumento na preferência de se trabalhar em casa"
   ]
  },
  {
   "cell_type": "markdown",
   "metadata": {},
   "source": [
    "# Top 10 países com maior número de participantes"
   ]
  },
  {
   "cell_type": "code",
   "execution_count": 24,
   "metadata": {},
   "outputs": [
    {
     "data": {
      "text/html": [
       "<div>\n",
       "<style scoped>\n",
       "    .dataframe tbody tr th:only-of-type {\n",
       "        vertical-align: middle;\n",
       "    }\n",
       "\n",
       "    .dataframe tbody tr th {\n",
       "        vertical-align: top;\n",
       "    }\n",
       "\n",
       "    .dataframe thead th {\n",
       "        text-align: right;\n",
       "    }\n",
       "</style>\n",
       "<table border=\"1\" class=\"dataframe\">\n",
       "  <thead>\n",
       "    <tr style=\"text-align: right;\">\n",
       "      <th></th>\n",
       "      <th>Country</th>\n",
       "      <th>Total</th>\n",
       "    </tr>\n",
       "  </thead>\n",
       "  <tbody>\n",
       "    <tr>\n",
       "      <th>0</th>\n",
       "      <td>United States of America</td>\n",
       "      <td>6056</td>\n",
       "    </tr>\n",
       "    <tr>\n",
       "      <th>7</th>\n",
       "      <td>India</td>\n",
       "      <td>894</td>\n",
       "    </tr>\n",
       "    <tr>\n",
       "      <th>2</th>\n",
       "      <td>United Kingdom</td>\n",
       "      <td>594</td>\n",
       "    </tr>\n",
       "    <tr>\n",
       "      <th>4</th>\n",
       "      <td>Canada</td>\n",
       "      <td>526</td>\n",
       "    </tr>\n",
       "    <tr>\n",
       "      <th>10</th>\n",
       "      <td>Brazil</td>\n",
       "      <td>257</td>\n",
       "    </tr>\n",
       "    <tr>\n",
       "      <th>21</th>\n",
       "      <td>Australia</td>\n",
       "      <td>255</td>\n",
       "    </tr>\n",
       "    <tr>\n",
       "      <th>17</th>\n",
       "      <td>Germany</td>\n",
       "      <td>244</td>\n",
       "    </tr>\n",
       "    <tr>\n",
       "      <th>34</th>\n",
       "      <td>Russia</td>\n",
       "      <td>231</td>\n",
       "    </tr>\n",
       "    <tr>\n",
       "      <th>42</th>\n",
       "      <td>Ukraine</td>\n",
       "      <td>202</td>\n",
       "    </tr>\n",
       "    <tr>\n",
       "      <th>43</th>\n",
       "      <td>Poland</td>\n",
       "      <td>192</td>\n",
       "    </tr>\n",
       "  </tbody>\n",
       "</table>\n",
       "</div>"
      ],
      "text/plain": [
       "                     Country  Total\n",
       "0   United States of America   6056\n",
       "7                      India    894\n",
       "2             United Kingdom    594\n",
       "4                     Canada    526\n",
       "10                    Brazil    257\n",
       "21                 Australia    255\n",
       "17                   Germany    244\n",
       "34                    Russia    231\n",
       "42                   Ukraine    202\n",
       "43                    Poland    192"
      ]
     },
     "execution_count": 24,
     "metadata": {},
     "output_type": "execute_result"
    }
   ],
   "source": [
    "# Tabela com os 10 países que mais tiveram representantes na pesquisa\n",
    "\n",
    "# Criando tabela\n",
    "lista2 = pd.DataFrame()\n",
    "for m in list(dados_copia1[\"CountryLive\"].unique()):\n",
    "        s = sum(dados_copia1[\"CountryLive\"]==m)\n",
    "        lista2 = lista2.append(pd.DataFrame({\"Country\": m, \"Total\": s}, index=[0]))\n",
    "        \n",
    "# Editando tabela\n",
    "lista2 = lista2.reset_index()\n",
    "del lista2[\"index\"]\n",
    "lista2[\"Total\"].fillna(0,inplace=True)\n",
    "lista2[\"Total\"] = lista2[\"Total\"].astype(int)\n",
    "lista2 = lista2.sort_values([\"Total\"], ascending=False)\n",
    "lista2.head(10)"
   ]
  }
 ],
 "metadata": {
  "kernelspec": {
   "display_name": "Python 3",
   "language": "python",
   "name": "python3"
  },
  "language_info": {
   "codemirror_mode": {
    "name": "ipython",
    "version": 3
   },
   "file_extension": ".py",
   "mimetype": "text/x-python",
   "name": "python",
   "nbconvert_exporter": "python",
   "pygments_lexer": "ipython3",
   "version": "3.7.6"
  }
 },
 "nbformat": 4,
 "nbformat_minor": 4
}
